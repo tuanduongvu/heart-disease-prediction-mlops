{
 "cells": [
  {
   "cell_type": "code",
   "execution_count": 1,
   "id": "b1ff4ac3-23aa-4476-9160-a02169b022e2",
   "metadata": {},
   "outputs": [],
   "source": [
    "from pathlib import Path\n",
    "import datetime\n",
    "import pandas as pd\n",
    "\n",
    "from evidently import ColumnMapping\n",
    "from evidently.report import Report\n",
    "from evidently.metrics import ColumnDriftMetric, DatasetDriftMetric, DatasetMissingValuesMetric\n",
    "\n",
    "from joblib import load, dump\n",
    "from tqdm import tqdm"
   ]
  },
  {
   "cell_type": "code",
   "execution_count": 4,
   "id": "87995225-c0dc-4854-a4ca-8dfa37fd3150",
   "metadata": {},
   "outputs": [],
   "source": [
    "def load_clean_data(path_name) :\n",
    "    data = pd.read_csv(path_name)\n",
    "    data = data.drop_duplicates()\n",
    "    data.columns = data.columns.str.lower().str.replace(' ', '_')\n",
    "    return data"
   ]
  },
  {
   "cell_type": "code",
   "execution_count": 6,
   "id": "58a7519d-d465-4b98-bc7d-44f412e6a2e5",
   "metadata": {},
   "outputs": [],
   "source": [
    "reference_data = load_clean_data('https://raw.githubusercontent.com/vucongtuanduong/heart-disease-prediction-mlops/main/data/data.csv')"
   ]
  },
  {
   "cell_type": "code",
   "execution_count": 19,
   "id": "e2419762-433c-45a5-ae0e-697bca3ff0fc",
   "metadata": {},
   "outputs": [],
   "source": [
    "current_data  = load_clean_data('https://raw.githubusercontent.com/vucongtuanduong/heart-disease-prediction-mlops/main/deployment/batch/df_predict_output.csv')"
   ]
  },
  {
   "cell_type": "code",
   "execution_count": 21,
   "id": "938d50a4-3769-4739-ba85-bb82314c0902",
   "metadata": {},
   "outputs": [],
   "source": [
    "column_mapping = ColumnMapping(\n",
    "    target = None,\n",
    "    prediction = 'target'\n",
    ")"
   ]
  },
  {
   "cell_type": "code",
   "execution_count": 22,
   "id": "c6c68419-3547-4b60-b4c8-9e403e70d064",
   "metadata": {},
   "outputs": [],
   "source": [
    "\n",
    "report = Report(metrics=[\n",
    "    ColumnDriftMetric(column_name='target'),\n",
    "    DatasetDriftMetric(),\n",
    "    DatasetMissingValuesMetric()\n",
    "]\n",
    ")"
   ]
  },
  {
   "cell_type": "code",
   "execution_count": 23,
   "id": "aead77e4-7f75-4836-ba8e-303f41644963",
   "metadata": {},
   "outputs": [
    {
     "ename": "ValueError",
     "evalue": "Prediction column (target) is partially present in data",
     "output_type": "error",
     "traceback": [
      "\u001b[0;31m---------------------------------------------------------------------------\u001b[0m",
      "\u001b[0;31mValueError\u001b[0m                                Traceback (most recent call last)",
      "Cell \u001b[0;32mIn[23], line 1\u001b[0m\n\u001b[0;32m----> 1\u001b[0m \u001b[43mreport\u001b[49m\u001b[38;5;241;43m.\u001b[39;49m\u001b[43mrun\u001b[49m\u001b[43m(\u001b[49m\u001b[43mreference_data\u001b[49m\u001b[38;5;241;43m=\u001b[39;49m\u001b[43mreference_data\u001b[49m\u001b[43m,\u001b[49m\u001b[43m \u001b[49m\u001b[43mcurrent_data\u001b[49m\u001b[38;5;241;43m=\u001b[39;49m\u001b[43mcurrent_data\u001b[49m\u001b[43m,\u001b[49m\u001b[43m \u001b[49m\u001b[43mcolumn_mapping\u001b[49m\u001b[38;5;241;43m=\u001b[39;49m\u001b[43mcolumn_mapping\u001b[49m\u001b[43m)\u001b[49m\n",
      "File \u001b[0;32m/opt/conda/envs/py11/lib/python3.11/site-packages/evidently/report/report.py:96\u001b[0m, in \u001b[0;36mReport.run\u001b[0;34m(self, reference_data, current_data, column_mapping, engine, additional_data)\u001b[0m\n\u001b[1;32m     94\u001b[0m     \u001b[38;5;28;01mraise\u001b[39;00m \u001b[38;5;167;01mValueError\u001b[39;00m(\u001b[38;5;124m\"\u001b[39m\u001b[38;5;124mNo Engine is set\u001b[39m\u001b[38;5;124m\"\u001b[39m)\n\u001b[1;32m     95\u001b[0m \u001b[38;5;28;01melse\u001b[39;00m:\n\u001b[0;32m---> 96\u001b[0m     data_definition \u001b[38;5;241m=\u001b[39m \u001b[38;5;28;43mself\u001b[39;49m\u001b[38;5;241;43m.\u001b[39;49m\u001b[43m_inner_suite\u001b[49m\u001b[38;5;241;43m.\u001b[39;49m\u001b[43mcontext\u001b[49m\u001b[38;5;241;43m.\u001b[39;49m\u001b[43mget_data_definition\u001b[49m\u001b[43m(\u001b[49m\n\u001b[1;32m     97\u001b[0m \u001b[43m        \u001b[49m\u001b[43mcurrent_data\u001b[49m\u001b[43m,\u001b[49m\n\u001b[1;32m     98\u001b[0m \u001b[43m        \u001b[49m\u001b[43mreference_data\u001b[49m\u001b[43m,\u001b[49m\n\u001b[1;32m     99\u001b[0m \u001b[43m        \u001b[49m\u001b[43mcolumn_mapping\u001b[49m\u001b[43m,\u001b[49m\n\u001b[1;32m    100\u001b[0m \u001b[43m        \u001b[49m\u001b[38;5;28;43mself\u001b[39;49m\u001b[38;5;241;43m.\u001b[39;49m\u001b[43moptions\u001b[49m\u001b[38;5;241;43m.\u001b[39;49m\u001b[43mdata_definition_options\u001b[49m\u001b[38;5;241;43m.\u001b[39;49m\u001b[43mcategorical_features_cardinality\u001b[49m\u001b[43m,\u001b[49m\n\u001b[1;32m    101\u001b[0m \u001b[43m    \u001b[49m\u001b[43m)\u001b[49m\n\u001b[1;32m    103\u001b[0m \u001b[38;5;66;03m# get each item from metrics/presets and add to metrics list\u001b[39;00m\n\u001b[1;32m    104\u001b[0m \u001b[38;5;66;03m# do it in one loop because we want to save metrics and presets order\u001b[39;00m\n\u001b[1;32m    105\u001b[0m \u001b[38;5;28;01mfor\u001b[39;00m item \u001b[38;5;129;01min\u001b[39;00m \u001b[38;5;28mself\u001b[39m\u001b[38;5;241m.\u001b[39mmetrics:\n\u001b[1;32m    106\u001b[0m     \u001b[38;5;66;03m# if the item is a metric generator, then we need to generate metrics and add them to the report\u001b[39;00m\n",
      "File \u001b[0;32m/opt/conda/envs/py11/lib/python3.11/site-packages/evidently/suite/base_suite.py:120\u001b[0m, in \u001b[0;36mContext.get_data_definition\u001b[0;34m(self, current_data, reference_data, column_mapping, categorical_features_cardinality)\u001b[0m\n\u001b[1;32m    118\u001b[0m     \u001b[38;5;28;01mif\u001b[39;00m \u001b[38;5;28mself\u001b[39m\u001b[38;5;241m.\u001b[39mengine \u001b[38;5;129;01mis\u001b[39;00m \u001b[38;5;28;01mNone\u001b[39;00m:\n\u001b[1;32m    119\u001b[0m         \u001b[38;5;28;01mraise\u001b[39;00m \u001b[38;5;167;01mValueError\u001b[39;00m(\u001b[38;5;124m\"\u001b[39m\u001b[38;5;124mCannot create data definition when engine is not set\u001b[39m\u001b[38;5;124m\"\u001b[39m)\n\u001b[0;32m--> 120\u001b[0m     \u001b[38;5;28mself\u001b[39m\u001b[38;5;241m.\u001b[39mdata_definition \u001b[38;5;241m=\u001b[39m \u001b[38;5;28;43mself\u001b[39;49m\u001b[38;5;241;43m.\u001b[39;49m\u001b[43mengine\u001b[49m\u001b[38;5;241;43m.\u001b[39;49m\u001b[43mget_data_definition\u001b[49m\u001b[43m(\u001b[49m\n\u001b[1;32m    121\u001b[0m \u001b[43m        \u001b[49m\u001b[43mcurrent_data\u001b[49m\u001b[43m,\u001b[49m\u001b[43m \u001b[49m\u001b[43mreference_data\u001b[49m\u001b[43m,\u001b[49m\u001b[43m \u001b[49m\u001b[43mcolumn_mapping\u001b[49m\u001b[43m,\u001b[49m\u001b[43m \u001b[49m\u001b[43mcategorical_features_cardinality\u001b[49m\n\u001b[1;32m    122\u001b[0m \u001b[43m    \u001b[49m\u001b[43m)\u001b[49m\n\u001b[1;32m    123\u001b[0m \u001b[38;5;28;01mreturn\u001b[39;00m \u001b[38;5;28mself\u001b[39m\u001b[38;5;241m.\u001b[39mdata_definition\n",
      "File \u001b[0;32m/opt/conda/envs/py11/lib/python3.11/site-packages/evidently/calculation_engine/python_engine.py:52\u001b[0m, in \u001b[0;36mPythonEngine.get_data_definition\u001b[0;34m(self, current_data, reference_data, column_mapping, categorical_features_cardinality)\u001b[0m\n\u001b[1;32m     48\u001b[0m \u001b[38;5;28;01mif\u001b[39;00m \u001b[38;5;129;01mnot\u001b[39;00m \u001b[38;5;28misinstance\u001b[39m(current_data, pd\u001b[38;5;241m.\u001b[39mDataFrame) \u001b[38;5;129;01mor\u001b[39;00m (\n\u001b[1;32m     49\u001b[0m     reference_data \u001b[38;5;129;01mis\u001b[39;00m \u001b[38;5;129;01mnot\u001b[39;00m \u001b[38;5;28;01mNone\u001b[39;00m \u001b[38;5;129;01mand\u001b[39;00m \u001b[38;5;129;01mnot\u001b[39;00m \u001b[38;5;28misinstance\u001b[39m(reference_data, pd\u001b[38;5;241m.\u001b[39mDataFrame)\n\u001b[1;32m     50\u001b[0m ):\n\u001b[1;32m     51\u001b[0m     \u001b[38;5;28;01mraise\u001b[39;00m \u001b[38;5;167;01mValueError\u001b[39;00m(\u001b[38;5;124m\"\u001b[39m\u001b[38;5;124mPandasEngine works only with pd.DataFrame input data\u001b[39m\u001b[38;5;124m\"\u001b[39m)\n\u001b[0;32m---> 52\u001b[0m \u001b[38;5;28;01mreturn\u001b[39;00m \u001b[43mcreate_data_definition\u001b[49m\u001b[43m(\u001b[49m\u001b[43mreference_data\u001b[49m\u001b[43m,\u001b[49m\u001b[43m \u001b[49m\u001b[43mcurrent_data\u001b[49m\u001b[43m,\u001b[49m\u001b[43m \u001b[49m\u001b[43mcolumn_mapping\u001b[49m\u001b[43m,\u001b[49m\u001b[43m \u001b[49m\u001b[43mcategorical_features_cardinality\u001b[49m\u001b[43m)\u001b[49m\n",
      "File \u001b[0;32m/opt/conda/envs/py11/lib/python3.11/site-packages/evidently/utils/data_preprocessing.py:317\u001b[0m, in \u001b[0;36mcreate_data_definition\u001b[0;34m(reference_data, current_data, mapping, categorical_features_cardinality_limit)\u001b[0m\n\u001b[1;32m    297\u001b[0m target_column \u001b[38;5;241m=\u001b[39m _process_column(\n\u001b[1;32m    298\u001b[0m     _column_not_present_in_list(\n\u001b[1;32m    299\u001b[0m         mapping\u001b[38;5;241m.\u001b[39mtarget,\n\u001b[0;32m   (...)\u001b[0m\n\u001b[1;32m    305\u001b[0m     mapping\u001b[38;5;241m=\u001b[39mmapping,\n\u001b[1;32m    306\u001b[0m )\n\u001b[1;32m    307\u001b[0m datetime_column \u001b[38;5;241m=\u001b[39m _process_column(\n\u001b[1;32m    308\u001b[0m     _column_not_present_in_list(\n\u001b[1;32m    309\u001b[0m         mapping\u001b[38;5;241m.\u001b[39mdatetime,\n\u001b[0;32m   (...)\u001b[0m\n\u001b[1;32m    314\u001b[0m     data,\n\u001b[1;32m    315\u001b[0m )\n\u001b[0;32m--> 317\u001b[0m prediction_columns \u001b[38;5;241m=\u001b[39m \u001b[43m_prediction_column\u001b[49m\u001b[43m(\u001b[49m\n\u001b[1;32m    318\u001b[0m \u001b[43m    \u001b[49m\u001b[43mmapping\u001b[49m\u001b[38;5;241;43m.\u001b[39;49m\u001b[43mprediction\u001b[49m\u001b[43m,\u001b[49m\n\u001b[1;32m    319\u001b[0m \u001b[43m    \u001b[49m\u001b[43mtarget_column\u001b[49m\u001b[38;5;241;43m.\u001b[39;49m\u001b[43mcolumn_type\u001b[49m\u001b[43m \u001b[49m\u001b[38;5;28;43;01mif\u001b[39;49;00m\u001b[43m \u001b[49m\u001b[43mtarget_column\u001b[49m\u001b[43m \u001b[49m\u001b[38;5;129;43;01mis\u001b[39;49;00m\u001b[43m \u001b[49m\u001b[38;5;129;43;01mnot\u001b[39;49;00m\u001b[43m \u001b[49m\u001b[38;5;28;43;01mNone\u001b[39;49;00m\u001b[43m \u001b[49m\u001b[38;5;28;43;01melse\u001b[39;49;00m\u001b[43m \u001b[49m\u001b[38;5;28;43;01mNone\u001b[39;49;00m\u001b[43m,\u001b[49m\n\u001b[1;32m    320\u001b[0m \u001b[43m    \u001b[49m\u001b[43mmapping\u001b[49m\u001b[38;5;241;43m.\u001b[39;49m\u001b[43mtask\u001b[49m\u001b[43m,\u001b[49m\n\u001b[1;32m    321\u001b[0m \u001b[43m    \u001b[49m\u001b[43mdata\u001b[49m\u001b[43m,\u001b[49m\n\u001b[1;32m    322\u001b[0m \u001b[43m    \u001b[49m\u001b[43mmapping\u001b[49m\u001b[43m,\u001b[49m\n\u001b[1;32m    323\u001b[0m \u001b[43m\u001b[49m\u001b[43m)\u001b[49m\n\u001b[1;32m    325\u001b[0m prediction_cols \u001b[38;5;241m=\u001b[39m prediction_columns\u001b[38;5;241m.\u001b[39mget_columns_list() \u001b[38;5;28;01mif\u001b[39;00m prediction_columns \u001b[38;5;129;01mis\u001b[39;00m \u001b[38;5;129;01mnot\u001b[39;00m \u001b[38;5;28;01mNone\u001b[39;00m \u001b[38;5;28;01melse\u001b[39;00m []\n\u001b[1;32m    327\u001b[0m all_columns \u001b[38;5;241m=\u001b[39m [\n\u001b[1;32m    328\u001b[0m     id_column,\n\u001b[1;32m    329\u001b[0m     user_id,\n\u001b[0;32m   (...)\u001b[0m\n\u001b[1;32m    333\u001b[0m     \u001b[38;5;241m*\u001b[39mprediction_cols,\n\u001b[1;32m    334\u001b[0m ]\n",
      "File \u001b[0;32m/opt/conda/envs/py11/lib/python3.11/site-packages/evidently/utils/data_preprocessing.py:187\u001b[0m, in \u001b[0;36m_prediction_column\u001b[0;34m(prediction, target_type, task, data, mapping)\u001b[0m\n\u001b[1;32m    185\u001b[0m     \u001b[38;5;28;01mreturn\u001b[39;00m \u001b[38;5;28;01mNone\u001b[39;00m\n\u001b[1;32m    186\u001b[0m \u001b[38;5;28;01mif\u001b[39;00m prediction_present \u001b[38;5;241m==\u001b[39m ColumnPresenceState\u001b[38;5;241m.\u001b[39mPartially:\n\u001b[0;32m--> 187\u001b[0m     \u001b[38;5;28;01mraise\u001b[39;00m \u001b[38;5;167;01mValueError\u001b[39;00m(\u001b[38;5;124mf\u001b[39m\u001b[38;5;124m\"\u001b[39m\u001b[38;5;124mPrediction column (\u001b[39m\u001b[38;5;132;01m{\u001b[39;00mprediction\u001b[38;5;132;01m}\u001b[39;00m\u001b[38;5;124m) is partially present in data\u001b[39m\u001b[38;5;124m\"\u001b[39m)\n\u001b[1;32m    188\u001b[0m prediction_type \u001b[38;5;241m=\u001b[39m _get_column_type(prediction, data, mapping)\n\u001b[1;32m    189\u001b[0m \u001b[38;5;28;01mif\u001b[39;00m task \u001b[38;5;241m==\u001b[39m TaskType\u001b[38;5;241m.\u001b[39mCLASSIFICATION_TASK:\n",
      "\u001b[0;31mValueError\u001b[0m: Prediction column (target) is partially present in data"
     ]
    }
   ],
   "source": [
    "report.run(reference_data=reference_data, current_data=current_data, column_mapping=column_mapping)"
   ]
  },
  {
   "cell_type": "code",
   "execution_count": 17,
   "id": "456f56a9-0f98-43bc-8875-37cc641a3f45",
   "metadata": {},
   "outputs": [
    {
     "ename": "ValueError",
     "evalue": "Cannot find column 'target' in current dataset",
     "output_type": "error",
     "traceback": [
      "\u001b[0;31m---------------------------------------------------------------------------\u001b[0m",
      "\u001b[0;31mColumnNotFound\u001b[0m                            Traceback (most recent call last)",
      "File \u001b[0;32m/opt/conda/envs/py11/lib/python3.11/site-packages/evidently/metrics/data_drift/column_drift_metric.py:275\u001b[0m, in \u001b[0;36mColumnDriftMetric.calculate\u001b[0;34m(self, data)\u001b[0m\n\u001b[1;32m    274\u001b[0m \u001b[38;5;28;01mtry\u001b[39;00m:\n\u001b[0;32m--> 275\u001b[0m     current_feature_data \u001b[38;5;241m=\u001b[39m \u001b[43mdata\u001b[49m\u001b[38;5;241;43m.\u001b[39;49m\u001b[43mget_current_column\u001b[49m\u001b[43m(\u001b[49m\u001b[38;5;28;43mself\u001b[39;49m\u001b[38;5;241;43m.\u001b[39;49m\u001b[43mcolumn_name\u001b[49m\u001b[43m)\u001b[49m\n\u001b[1;32m    276\u001b[0m \u001b[38;5;28;01mexcept\u001b[39;00m ColumnNotFound \u001b[38;5;28;01mas\u001b[39;00m ex:\n",
      "File \u001b[0;32m/opt/conda/envs/py11/lib/python3.11/site-packages/evidently/base_metric.py:154\u001b[0m, in \u001b[0;36mInputData.get_current_column\u001b[0;34m(self, column)\u001b[0m\n\u001b[1;32m    153\u001b[0m _column \u001b[38;5;241m=\u001b[39m \u001b[38;5;28mself\u001b[39m\u001b[38;5;241m.\u001b[39m_str_to_column_name(column)\n\u001b[0;32m--> 154\u001b[0m \u001b[38;5;28;01mreturn\u001b[39;00m \u001b[38;5;28;43mself\u001b[39;49m\u001b[38;5;241;43m.\u001b[39;49m\u001b[43m_get_by_column_name\u001b[49m\u001b[43m(\u001b[49m\u001b[38;5;28;43mself\u001b[39;49m\u001b[38;5;241;43m.\u001b[39;49m\u001b[43mcurrent_data\u001b[49m\u001b[43m,\u001b[49m\u001b[43m \u001b[49m\u001b[38;5;28;43mself\u001b[39;49m\u001b[38;5;241;43m.\u001b[39;49m\u001b[43mcurrent_additional_features\u001b[49m\u001b[43m,\u001b[49m\u001b[43m \u001b[49m\u001b[43m_column\u001b[49m\u001b[43m)\u001b[49m\n",
      "File \u001b[0;32m/opt/conda/envs/py11/lib/python3.11/site-packages/evidently/base_metric.py:146\u001b[0m, in \u001b[0;36mInputData._get_by_column_name\u001b[0;34m(dataset, additional, column)\u001b[0m\n\u001b[1;32m    145\u001b[0m \u001b[38;5;28;01mif\u001b[39;00m column\u001b[38;5;241m.\u001b[39mname \u001b[38;5;129;01mnot\u001b[39;00m \u001b[38;5;129;01min\u001b[39;00m dataset\u001b[38;5;241m.\u001b[39mcolumns:\n\u001b[0;32m--> 146\u001b[0m     \u001b[38;5;28;01mraise\u001b[39;00m ColumnNotFound(column\u001b[38;5;241m.\u001b[39mname)\n\u001b[1;32m    147\u001b[0m \u001b[38;5;28;01mreturn\u001b[39;00m dataset[column\u001b[38;5;241m.\u001b[39mname]\n",
      "\u001b[0;31mColumnNotFound\u001b[0m: target",
      "\nDuring handling of the above exception, another exception occurred:\n",
      "\u001b[0;31mValueError\u001b[0m                                Traceback (most recent call last)",
      "Cell \u001b[0;32mIn[17], line 1\u001b[0m\n\u001b[0;32m----> 1\u001b[0m \u001b[43mreport\u001b[49m\u001b[38;5;241;43m.\u001b[39;49m\u001b[43mshow\u001b[49m\u001b[43m(\u001b[49m\u001b[43mmode\u001b[49m\u001b[38;5;241;43m=\u001b[39;49m\u001b[38;5;124;43m'\u001b[39;49m\u001b[38;5;124;43minline\u001b[39;49m\u001b[38;5;124;43m'\u001b[39;49m\u001b[43m)\u001b[49m\n",
      "File \u001b[0;32m/opt/conda/envs/py11/lib/python3.11/site-packages/evidently/suite/base_suite.py:194\u001b[0m, in \u001b[0;36mDisplay.show\u001b[0;34m(self, mode)\u001b[0m\n\u001b[1;32m    186\u001b[0m \u001b[38;5;28;01mdef\u001b[39;00m \u001b[38;5;21mshow\u001b[39m(\u001b[38;5;28mself\u001b[39m, mode\u001b[38;5;241m=\u001b[39m\u001b[38;5;124m\"\u001b[39m\u001b[38;5;124mauto\u001b[39m\u001b[38;5;124m\"\u001b[39m):\n\u001b[1;32m    187\u001b[0m \u001b[38;5;250m    \u001b[39m\u001b[38;5;124;03m\"\"\"\u001b[39;00m\n\u001b[1;32m    188\u001b[0m \u001b[38;5;124;03m    Keyword arguments:\u001b[39;00m\n\u001b[1;32m    189\u001b[0m \u001b[38;5;124;03m    `mode` - Deprecated.\u001b[39;00m\n\u001b[0;32m   (...)\u001b[0m\n\u001b[1;32m    192\u001b[0m \u001b[38;5;124;03m    this function without any args, like: `.show()`\u001b[39;00m\n\u001b[1;32m    193\u001b[0m \u001b[38;5;124;03m    \"\"\"\u001b[39;00m\n\u001b[0;32m--> 194\u001b[0m     dashboard_id, dashboard_info, graphs \u001b[38;5;241m=\u001b[39m \u001b[38;5;28;43mself\u001b[39;49m\u001b[38;5;241;43m.\u001b[39;49m\u001b[43m_build_dashboard_info\u001b[49m\u001b[43m(\u001b[49m\u001b[43m)\u001b[49m\n\u001b[1;32m    195\u001b[0m     template_params \u001b[38;5;241m=\u001b[39m TemplateParams(\n\u001b[1;32m    196\u001b[0m         dashboard_id\u001b[38;5;241m=\u001b[39mdashboard_id,\n\u001b[1;32m    197\u001b[0m         dashboard_info\u001b[38;5;241m=\u001b[39mdashboard_info,\n\u001b[1;32m    198\u001b[0m         additional_graphs\u001b[38;5;241m=\u001b[39mgraphs,\n\u001b[1;32m    199\u001b[0m     )\n\u001b[1;32m    200\u001b[0m     \u001b[38;5;66;03m# pylint: disable=import-outside-toplevel\u001b[39;00m\n",
      "File \u001b[0;32m/opt/conda/envs/py11/lib/python3.11/site-packages/evidently/report/report.py:213\u001b[0m, in \u001b[0;36mReport._build_dashboard_info\u001b[0;34m(self)\u001b[0m\n\u001b[1;32m    211\u001b[0m \u001b[38;5;66;03m# set the color scheme from the report for each render\u001b[39;00m\n\u001b[1;32m    212\u001b[0m renderer\u001b[38;5;241m.\u001b[39mcolor_options \u001b[38;5;241m=\u001b[39m color_options\n\u001b[0;32m--> 213\u001b[0m html_info \u001b[38;5;241m=\u001b[39m \u001b[43mrenderer\u001b[49m\u001b[38;5;241;43m.\u001b[39;49m\u001b[43mrender_html\u001b[49m\u001b[43m(\u001b[49m\u001b[43mtest\u001b[49m\u001b[43m)\u001b[49m\n\u001b[1;32m    214\u001b[0m replace_widgets_ids(html_info, id_generator)\n\u001b[1;32m    216\u001b[0m \u001b[38;5;28;01mfor\u001b[39;00m info_item \u001b[38;5;129;01min\u001b[39;00m html_info:\n",
      "File \u001b[0;32m/opt/conda/envs/py11/lib/python3.11/site-packages/evidently/metrics/data_drift/column_drift_metric.py:320\u001b[0m, in \u001b[0;36mColumnDriftMetricRenderer.render_html\u001b[0;34m(self, obj)\u001b[0m\n\u001b[1;32m    319\u001b[0m \u001b[38;5;28;01mdef\u001b[39;00m \u001b[38;5;21mrender_html\u001b[39m(\u001b[38;5;28mself\u001b[39m, obj: ColumnDriftMetric) \u001b[38;5;241m-\u001b[39m\u001b[38;5;241m>\u001b[39m List[BaseWidgetInfo]:\n\u001b[0;32m--> 320\u001b[0m     result: ColumnDataDriftMetrics \u001b[38;5;241m=\u001b[39m \u001b[43mobj\u001b[49m\u001b[38;5;241;43m.\u001b[39;49m\u001b[43mget_result\u001b[49m\u001b[43m(\u001b[49m\u001b[43m)\u001b[49m\n\u001b[1;32m    322\u001b[0m     \u001b[38;5;28;01mif\u001b[39;00m result\u001b[38;5;241m.\u001b[39mdrift_detected:\n\u001b[1;32m    323\u001b[0m         drift \u001b[38;5;241m=\u001b[39m \u001b[38;5;124m\"\u001b[39m\u001b[38;5;124mdetected\u001b[39m\u001b[38;5;124m\"\u001b[39m\n",
      "File \u001b[0;32m/opt/conda/envs/py11/lib/python3.11/site-packages/evidently/base_metric.py:259\u001b[0m, in \u001b[0;36mMetric.get_result\u001b[0;34m(self)\u001b[0m\n\u001b[1;32m    257\u001b[0m result \u001b[38;5;241m=\u001b[39m \u001b[38;5;28mself\u001b[39m\u001b[38;5;241m.\u001b[39m_context\u001b[38;5;241m.\u001b[39mmetric_results\u001b[38;5;241m.\u001b[39mget(\u001b[38;5;28mself\u001b[39m, \u001b[38;5;28;01mNone\u001b[39;00m)\n\u001b[1;32m    258\u001b[0m \u001b[38;5;28;01mif\u001b[39;00m \u001b[38;5;28misinstance\u001b[39m(result, ErrorResult):\n\u001b[0;32m--> 259\u001b[0m     \u001b[38;5;28;01mraise\u001b[39;00m result\u001b[38;5;241m.\u001b[39mexception\n\u001b[1;32m    260\u001b[0m \u001b[38;5;28;01mif\u001b[39;00m result \u001b[38;5;129;01mis\u001b[39;00m \u001b[38;5;28;01mNone\u001b[39;00m:\n\u001b[1;32m    261\u001b[0m     \u001b[38;5;28;01mraise\u001b[39;00m \u001b[38;5;167;01mValueError\u001b[39;00m(\u001b[38;5;124mf\u001b[39m\u001b[38;5;124m\"\u001b[39m\u001b[38;5;124mNo result found for metric \u001b[39m\u001b[38;5;132;01m{\u001b[39;00m\u001b[38;5;28mself\u001b[39m\u001b[38;5;132;01m}\u001b[39;00m\u001b[38;5;124m of type \u001b[39m\u001b[38;5;132;01m{\u001b[39;00m\u001b[38;5;28mtype\u001b[39m(\u001b[38;5;28mself\u001b[39m)\u001b[38;5;241m.\u001b[39m\u001b[38;5;18m__name__\u001b[39m\u001b[38;5;132;01m}\u001b[39;00m\u001b[38;5;124m\"\u001b[39m)\n",
      "File \u001b[0;32m/opt/conda/envs/py11/lib/python3.11/site-packages/evidently/calculation_engine/engine.py:44\u001b[0m, in \u001b[0;36mEngine.execute_metrics\u001b[0;34m(self, context, data)\u001b[0m\n\u001b[1;32m     42\u001b[0m logging\u001b[38;5;241m.\u001b[39mdebug(\u001b[38;5;124mf\u001b[39m\u001b[38;5;124m\"\u001b[39m\u001b[38;5;124mExecuting \u001b[39m\u001b[38;5;132;01m{\u001b[39;00m\u001b[38;5;28mtype\u001b[39m(calculation)\u001b[38;5;132;01m}\u001b[39;00m\u001b[38;5;124m...\u001b[39m\u001b[38;5;124m\"\u001b[39m)\n\u001b[1;32m     43\u001b[0m \u001b[38;5;28;01mtry\u001b[39;00m:\n\u001b[0;32m---> 44\u001b[0m     calculations[metric] \u001b[38;5;241m=\u001b[39m \u001b[43mcalculation\u001b[49m\u001b[38;5;241;43m.\u001b[39;49m\u001b[43mcalculate\u001b[49m\u001b[43m(\u001b[49m\u001b[43mcontext\u001b[49m\u001b[43m,\u001b[49m\u001b[43m \u001b[49m\u001b[43mconverted_data\u001b[49m\u001b[43m)\u001b[49m\n\u001b[1;32m     45\u001b[0m \u001b[38;5;28;01mexcept\u001b[39;00m \u001b[38;5;167;01mBaseException\u001b[39;00m \u001b[38;5;28;01mas\u001b[39;00m ex:\n\u001b[1;32m     46\u001b[0m     calculations[metric] \u001b[38;5;241m=\u001b[39m ErrorResult(exception\u001b[38;5;241m=\u001b[39mex)\n",
      "File \u001b[0;32m/opt/conda/envs/py11/lib/python3.11/site-packages/evidently/calculation_engine/python_engine.py:96\u001b[0m, in \u001b[0;36mPythonEngine.get_metric_implementation.<locals>._Wrapper.calculate\u001b[0;34m(self, context, data)\u001b[0m\n\u001b[1;32m     95\u001b[0m \u001b[38;5;28;01mdef\u001b[39;00m \u001b[38;5;21mcalculate\u001b[39m(\u001b[38;5;28mself\u001b[39m, context, data: PythonInputData):\n\u001b[0;32m---> 96\u001b[0m     \u001b[38;5;28;01mreturn\u001b[39;00m \u001b[38;5;28;43mself\u001b[39;49m\u001b[38;5;241;43m.\u001b[39;49m\u001b[43mmetric\u001b[49m\u001b[38;5;241;43m.\u001b[39;49m\u001b[43mcalculate\u001b[49m\u001b[43m(\u001b[49m\u001b[43mdata\u001b[49m\u001b[43m)\u001b[49m\n",
      "File \u001b[0;32m/opt/conda/envs/py11/lib/python3.11/site-packages/evidently/metrics/data_drift/column_drift_metric.py:277\u001b[0m, in \u001b[0;36mColumnDriftMetric.calculate\u001b[0;34m(self, data)\u001b[0m\n\u001b[1;32m    275\u001b[0m     current_feature_data \u001b[38;5;241m=\u001b[39m data\u001b[38;5;241m.\u001b[39mget_current_column(\u001b[38;5;28mself\u001b[39m\u001b[38;5;241m.\u001b[39mcolumn_name)\n\u001b[1;32m    276\u001b[0m \u001b[38;5;28;01mexcept\u001b[39;00m ColumnNotFound \u001b[38;5;28;01mas\u001b[39;00m ex:\n\u001b[0;32m--> 277\u001b[0m     \u001b[38;5;28;01mraise\u001b[39;00m \u001b[38;5;167;01mValueError\u001b[39;00m(\u001b[38;5;124mf\u001b[39m\u001b[38;5;124m\"\u001b[39m\u001b[38;5;124mCannot find column \u001b[39m\u001b[38;5;124m'\u001b[39m\u001b[38;5;132;01m{\u001b[39;00mex\u001b[38;5;241m.\u001b[39mcolumn_name\u001b[38;5;132;01m}\u001b[39;00m\u001b[38;5;124m'\u001b[39m\u001b[38;5;124m in current dataset\u001b[39m\u001b[38;5;124m\"\u001b[39m)\n\u001b[1;32m    278\u001b[0m \u001b[38;5;28;01mtry\u001b[39;00m:\n\u001b[1;32m    279\u001b[0m     reference_feature_data \u001b[38;5;241m=\u001b[39m data\u001b[38;5;241m.\u001b[39mget_reference_column(\u001b[38;5;28mself\u001b[39m\u001b[38;5;241m.\u001b[39mcolumn_name)\n",
      "\u001b[0;31mValueError\u001b[0m: Cannot find column 'target' in current dataset"
     ]
    }
   ],
   "source": [
    "\n",
    "report.show(mode='inline')"
   ]
  },
  {
   "cell_type": "code",
   "execution_count": null,
   "id": "60953906-19a0-4621-bd51-9416b6d83796",
   "metadata": {},
   "outputs": [],
   "source": []
  }
 ],
 "metadata": {
  "kernelspec": {
   "display_name": "Python 3 (ipykernel)",
   "language": "python",
   "name": "python3"
  },
  "language_info": {
   "codemirror_mode": {
    "name": "ipython",
    "version": 3
   },
   "file_extension": ".py",
   "mimetype": "text/x-python",
   "name": "python",
   "nbconvert_exporter": "python",
   "pygments_lexer": "ipython3",
   "version": "3.11.0"
  }
 },
 "nbformat": 4,
 "nbformat_minor": 5
}
